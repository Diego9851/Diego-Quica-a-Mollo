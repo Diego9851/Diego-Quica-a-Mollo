{
 "cells": [
  {
   "cell_type": "markdown",
   "metadata": {},
   "source": [
    "# SUBSTITUCION"
   ]
  },
  {
   "cell_type": "markdown",
   "metadata": {},
   "source": [
    "Implemente un programa que implemente un cifrado de sustitución, como se indica a continuación."
   ]
  },
  {
   "cell_type": "markdown",
   "metadata": {},
   "source": [
    "<img src='./img/ejercicio2.PNG'>\n",
    "<!-- \"C:\\Users\\gdelgadr\\Desktop\\JoinProcess\\PYTHON-FUNDAMENTOS-JOINPROCESS\\Modulo1\\Ejercicios\\img\\ejercicio1.PNG\" -->"
   ]
  },
  {
   "cell_type": "markdown",
   "metadata": {},
   "source": [
    "## ANTECEDENTES"
   ]
  },
  {
   "cell_type": "markdown",
   "metadata": {},
   "source": [
    "En un cifrado de sustitución, “ciframos” (es decir, ocultamos de forma reversible) un mensaje reemplazando cada letra por otra. Para ello utilizamos una clave : en este caso, un mapeo de cada una de las letras del alfabeto a la letra a la que debe corresponder cuando lo cifremos. Para \"descifrar\" el mensaje, el receptor del mensaje necesitaría conocer la clave, de modo que pueda revertir el proceso: traducir el texto cifrado (generalmente llamado texto cifrado ) al mensaje original (generalmente llamado texto plano )."
   ]
  },
  {
   "cell_type": "markdown",
   "metadata": {},
   "source": [
    "Una clave, por ejemplo, podría ser la cadena <b>NQXPOMAFTRHLZGECYJIUWSKDVB</b>. Esta clave de 26 caracteres significa que <b>A</b> (la primera letra del alfabeto) debe convertirse en <b>N</b> (el primer carácter de la clave), <b>B</b> (la segunda letra del alfabeto) debe convertirse en <b>Q</b> (el segundo carácter de la clave) y así sucesivamente."
   ]
  },
  {
   "cell_type": "markdown",
   "metadata": {},
   "source": [
    "Un mensaje como <b>HELLO</b>, entonces, sería encriptado como <b>FOLLE</b>, reemplazando cada una de las letras según el mapeo determinado por la clave."
   ]
  },
  {
   "cell_type": "markdown",
   "metadata": {},
   "source": [
    "Escriba un programa llamado <b>substitution</b> que le permita cifrar mensajes usando un cifrado de sustitución. En el momento en que el usuario ejecuta el programa, debe decidir, proporcionando un argumento de línea de comandos, cuál debe ser la clave en el mensaje secreto que proporcionará en tiempo de ejecución.\n",
    "\n"
   ]
  },
  {
   "cell_type": "markdown",
   "metadata": {},
   "source": [
    "A continuación se muestran algunos ejemplos de cómo podría funcionar el programa. Por ejemplo, si el usuario ingresa una clave de <code>YTNSHKVEFXRBAUQZCLWDMIPGJO</code> y un texto sin formato de <code>HELLO</code>:"
   ]
  },
  {
   "cell_type": "markdown",
   "metadata": {},
   "source": [
    "### Ejemplo1\n",
    "<code>python substitution.py YTNSHKVEFXRBAUQZCLWDMIPGJO <code>\n",
    "<code>plaintext:  HELLO<code>\n",
    "<code>ciphertext: EHBBQ<code>"
   ]
  },
  {
   "cell_type": "markdown",
   "metadata": {},
   "source": [
    "Así es como el programa podría funcionar si el usuario proporciona una clave <code>VCHPRZGJNTLSKFBDQWAXEUYMOI</code> y un texto sin formato de <code>hello, world</code>:"
   ]
  },
  {
   "cell_type": "markdown",
   "metadata": {},
   "source": [
    "### Ejemplo2\n",
    "<code>python substitution.py VCHPRZGJNTLSKFBDQWAXEUYMOI <code>\n",
    "plaintext:  hello, world\n",
    "ciphertext: jrssb, ybwsp"
   ]
  },
  {
   "cell_type": "markdown",
   "metadata": {},
   "source": [
    "Observe que ni la coma ni el espacio fueron sustituidos por el cifrado. ¡Sustituya únicamente caracteres alfabéticos! Observe también que se ha conservado el caso del mensaje original. Las letras minúsculas permanecen en minúsculas y las letras mayúsculas permanecen en mayúsculas.\n",
    "\n",
    "No importa si los caracteres de la clave en sí son mayúsculas o minúsculas. Una clave de <code>VCHPRZGJNTLSKFBDQWAXEUYMOI</code> es funcionalmente idéntica a una clave de <code>vchprzgjntlskfbdqwaxeuymoi</code>(tal cual, para el caso <code>VcHpRzGjNtLsKfBdQwAxEuYmOi</code>).\n",
    "\n",
    "¿Y si un usuario no proporciona una clave válida?"
   ]
  },
  {
   "cell_type": "markdown",
   "metadata": {},
   "source": [
    "<code>python substitution.py ABC\n",
    "Key must contain 26 characters."
   ]
  },
  {
   "cell_type": "markdown",
   "metadata": {},
   "source": [
    "Para todos los casos en que no se proporcione una clave válida el programa debe concluir con algún mensaje de error"
   ]
  },
  {
   "cell_type": "markdown",
   "metadata": {},
   "source": [
    "## ESPECIFICACIONES"
   ]
  },
  {
   "cell_type": "markdown",
   "metadata": {},
   "source": [
    "Diseñe e implemente un programa, <code>substitution</code> que encripta mensajes usando un cifrado de sustitución.\n",
    "\n",
    "- Implemente su programa en un archivo llamado <code>substitution.py</code>.\n",
    "- Su programa debe aceptar un único argumento de línea de comandos, la clave que se utilizará para la sustitución. La clave en sí no debe distinguir entre mayúsculas y minúsculas, por lo que si algún carácter de la clave está en mayúsculas o minúsculas no debería afectar el comportamiento de su programa.\n",
    "- Si su programa se ejecuta sin ningún argumento de línea de comando o con más de un argumento de línea de comando, su programa debe imprimir un mensaje de error de su elección (con <code>print</code>) y retornar un valor de <code>1</code>(que tiende a significar un error) inmediatamente.\n",
    "- Si la clave no es válida (por ejemplo, al no contener 26 caracteres, contener cualquier carácter que no sea un carácter alfabético o no contener cada letra exactamente una vez), su programa debe imprimir un mensaje de error de su elección (con <code>print</code>) y retornar un valor de <code>1</code>(que tiende a significar un error) inmediatamente.\n",
    "- Su programa debe generar <code>plaintext:</code> (sin una nueva línea) y luego solicitar al usuario un texto plano (usando <code>input</code>).\n",
    "- Su programa debe generar <code>ciphertext:</code>(sin una nueva línea) seguido por el texto cifrado correspondiente del texto sin formato, con cada carácter alfabético en el texto sin formato sustituido por el carácter correspondiente en el texto cifrado; Los caracteres no alfabéticos deben imprimirse sin cambios.\n",
    "- Su programa debe preservar el uso de mayúsculas y minúsculas: las letras en mayúscula deben permanecer en mayúsculas; las letras minúsculas deben permanecer en minúsculas.\n",
    "\n",
    "- Después de generar texto cifrado, debe imprimir una nueva línea con el valor de <code>0</code> (el cual implica ejecución exitosa)."
   ]
  },
  {
   "cell_type": "markdown",
   "metadata": {},
   "source": [
    "## Pruebas"
   ]
  },
  {
   "cell_type": "markdown",
   "metadata": {},
   "source": [
    "Asegúrese de probar su código para cada uno de los siguientes.\n",
    "\n",
    "- Ejecute su programa como python sustitucion.py, para cada uno de los ejemplos dados en esta página\n",
    "- Otras pruebas se realizarán durante la clase"
   ]
  },
  {
   "cell_type": "code",
   "execution_count": null,
   "metadata": {},
   "outputs": [],
   "source": [
    "import string "
   ]
  },
  {
   "cell_type": "code",
   "execution_count": 1,
   "metadata": {},
   "outputs": [
    {
     "ename": "NameError",
     "evalue": "name 'string' is not defined",
     "output_type": "error",
     "traceback": [
      "\u001b[1;31m---------------------------------------------------------------------------\u001b[0m",
      "\u001b[1;31mNameError\u001b[0m                                 Traceback (most recent call last)",
      "\u001b[1;32m<ipython-input-1-f85252d7fdad>\u001b[0m in \u001b[0;36m<module>\u001b[1;34m\u001b[0m\n\u001b[1;32m----> 1\u001b[1;33m \u001b[0mx\u001b[0m \u001b[1;33m=\u001b[0m \u001b[0mstring\u001b[0m\u001b[1;33m.\u001b[0m\u001b[0mascii_uppercase\u001b[0m        \u001b[1;31m# x sera el abecedario\u001b[0m\u001b[1;33m\u001b[0m\u001b[1;33m\u001b[0m\u001b[0m\n\u001b[0m\u001b[0;32m      2\u001b[0m \u001b[0mprint\u001b[0m \u001b[1;33m(\u001b[0m\u001b[0mx\u001b[0m\u001b[1;33m)\u001b[0m\u001b[1;33m\u001b[0m\u001b[1;33m\u001b[0m\u001b[0m\n\u001b[0;32m      3\u001b[0m \u001b[0mkey\u001b[0m \u001b[1;33m=\u001b[0m \u001b[1;34m'yTNSHKVEfXRBAUQZCLWDMIPGJO'\u001b[0m   \u001b[1;31m#key sera el abecedario encriptado\u001b[0m\u001b[1;33m\u001b[0m\u001b[1;33m\u001b[0m\u001b[0m\n\u001b[0;32m      4\u001b[0m \u001b[0mkey\u001b[0m \u001b[1;33m=\u001b[0m \u001b[0mkey\u001b[0m\u001b[1;33m.\u001b[0m\u001b[0mupper\u001b[0m\u001b[1;33m(\u001b[0m\u001b[1;33m)\u001b[0m            \u001b[1;31m# a key se le aplicara mayusculas siempre\u001b[0m\u001b[1;33m\u001b[0m\u001b[1;33m\u001b[0m\u001b[0m\n\u001b[0;32m      5\u001b[0m \u001b[0mprint\u001b[0m \u001b[1;33m(\u001b[0m\u001b[0mkey\u001b[0m\u001b[1;33m)\u001b[0m\u001b[1;33m\u001b[0m\u001b[1;33m\u001b[0m\u001b[0m\n",
      "\u001b[1;31mNameError\u001b[0m: name 'string' is not defined"
     ]
    }
   ],
   "source": [
    "x = string.ascii_uppercase        # x sera el abecedario\n",
    "print (x)\n",
    "key = 'yTNSHKVEfXRBAUQZCLWDMIPGJO'   #key sera el abecedario encriptado\n",
    "key = key.upper()            # a key se le aplicara mayusculas siempre\n",
    "print (key)"
   ]
  },
  {
   "cell_type": "code",
   "execution_count": 2,
   "metadata": {},
   "outputs": [
    {
     "ename": "SyntaxError",
     "evalue": "invalid syntax (<ipython-input-2-1290bc77b784>, line 1)",
     "output_type": "error",
     "traceback": [
      "\u001b[1;36m  File \u001b[1;32m\"<ipython-input-2-1290bc77b784>\"\u001b[1;36m, line \u001b[1;32m1\u001b[0m\n\u001b[1;33m    leemos el plaintext\u001b[0m\n\u001b[1;37m           ^\u001b[0m\n\u001b[1;31mSyntaxError\u001b[0m\u001b[1;31m:\u001b[0m invalid syntax\n"
     ]
    }
   ],
   "source": [
    "leemos el plaintext\n",
    "y = input(\"introduzca una palabra a encriptar\")\n",
    "print (y)"
   ]
  },
  {
   "cell_type": "code",
   "execution_count": 3,
   "metadata": {},
   "outputs": [
    {
     "ename": "NameError",
     "evalue": "name 'y' is not defined",
     "output_type": "error",
     "traceback": [
      "\u001b[1;31m---------------------------------------------------------------------------\u001b[0m",
      "\u001b[1;31mNameError\u001b[0m                                 Traceback (most recent call last)",
      "\u001b[1;32m<ipython-input-3-68e30702ae52>\u001b[0m in \u001b[0;36m<module>\u001b[1;34m\u001b[0m\n\u001b[0;32m      1\u001b[0m \u001b[0mtexto_cif\u001b[0m \u001b[1;33m=\u001b[0m \u001b[1;34m\"\"\u001b[0m    \u001b[1;31m# creo la variable vacía\u001b[0m\u001b[1;33m\u001b[0m\u001b[1;33m\u001b[0m\u001b[0m\n\u001b[1;32m----> 2\u001b[1;33m \u001b[1;32mfor\u001b[0m \u001b[0mletra\u001b[0m \u001b[1;32min\u001b[0m \u001b[0my\u001b[0m\u001b[1;33m:\u001b[0m  \u001b[1;31m#por cada letra en y\u001b[0m\u001b[1;33m\u001b[0m\u001b[1;33m\u001b[0m\u001b[0m\n\u001b[0m\u001b[0;32m      3\u001b[0m \u001b[1;33m\u001b[0m\u001b[0m\n\u001b[0;32m      4\u001b[0m     \u001b[0mprint\u001b[0m \u001b[1;33m(\u001b[0m\u001b[0mletra\u001b[0m\u001b[1;33m)\u001b[0m    \u001b[1;31m# (opcional) imprimo c/ letra, seria el (\"y\") pero en una columna\u001b[0m\u001b[1;33m\u001b[0m\u001b[1;33m\u001b[0m\u001b[0m\n\u001b[0;32m      5\u001b[0m \u001b[1;33m\u001b[0m\u001b[0m\n",
      "\u001b[1;31mNameError\u001b[0m: name 'y' is not defined"
     ]
    }
   ],
   "source": [
    "texto_cif = \"\"    # creo la variable vacía\n",
    "for letra in y:  #por cada letra en y\n",
    "    \n",
    "    print (letra)    # (opcional) imprimo c/ letra, seria el (\"y\") pero en una columna \n",
    "      \n",
    "    index_alfa = x.find(letra.upper()) #  encontrar la letra dentro del abecedario (x) en mayusc y ubicar su posicion numerica\n",
    "    \n",
    "    if index_alfa >= 0:  #siempre las listas deben empezar con 0\n",
    "        if letra.isupper():   #si las letras son mayusculas:\n",
    "            letra = key[index_alfa]   #la letra se cambiara a la posicion(index_alfa), de (key) que es la clave encriptada\n",
    "        else:                               #si la letra no es mayuscula, es decir es minuscula , entonces    \n",
    "            letra = key[index_alfa].lower() #  la letra  tambien estara en minuscula\n",
    "    texto_cif+= letra   #la palabra text_cif se ha llenado de letra que son componentes de columna, una a una hasta tranformarlo\n",
    "                        #a texto\n",
    "        \n",
    "texto_cif"
   ]
  },
  {
   "cell_type": "code",
   "execution_count": null,
   "metadata": {},
   "outputs": [],
   "source": [
    "ejercicio2"
   ]
  },
  {
   "cell_type": "code",
   "execution_count": null,
   "metadata": {},
   "outputs": [],
   "source": [
    "import str"
   ]
  },
  {
   "cell_type": "code",
   "execution_count": 7,
   "metadata": {},
   "outputs": [
    {
     "ename": "AttributeError",
     "evalue": "type object 'str' has no attribute 'ascii_uppercase'",
     "output_type": "error",
     "traceback": [
      "\u001b[1;31m---------------------------------------------------------------------------\u001b[0m",
      "\u001b[1;31mAttributeError\u001b[0m                            Traceback (most recent call last)",
      "\u001b[1;32m<ipython-input-7-d82b11289799>\u001b[0m in \u001b[0;36m<module>\u001b[1;34m\u001b[0m\n\u001b[1;32m----> 1\u001b[1;33m \u001b[0malfabeto\u001b[0m \u001b[1;33m=\u001b[0m \u001b[0mstr\u001b[0m\u001b[1;33m.\u001b[0m\u001b[0mascii_uppercase\u001b[0m\u001b[1;33m\u001b[0m\u001b[1;33m\u001b[0m\u001b[0m\n\u001b[0m\u001b[0;32m      2\u001b[0m \u001b[0mclave\u001b[0m \u001b[1;33m=\u001b[0m \u001b[1;34m'VCHPRZGJNTLSKFBDQWAXEUYMOI'\u001b[0m\u001b[1;33m\u001b[0m\u001b[1;33m\u001b[0m\u001b[0m\n\u001b[0;32m      3\u001b[0m \u001b[0mclave\u001b[0m \u001b[1;33m=\u001b[0m \u001b[0mclave\u001b[0m\u001b[1;33m.\u001b[0m\u001b[0mupper\u001b[0m\u001b[1;33m(\u001b[0m\u001b[1;33m)\u001b[0m\u001b[1;33m\u001b[0m\u001b[1;33m\u001b[0m\u001b[0m\n\u001b[0;32m      4\u001b[0m \u001b[0mprint\u001b[0m \u001b[1;33m(\u001b[0m\u001b[0malfabeto\u001b[0m\u001b[1;33m)\u001b[0m\u001b[1;33m\u001b[0m\u001b[1;33m\u001b[0m\u001b[0m\n\u001b[0;32m      5\u001b[0m \u001b[0mprint\u001b[0m \u001b[1;33m(\u001b[0m\u001b[0mclave\u001b[0m\u001b[1;33m)\u001b[0m\u001b[1;33m\u001b[0m\u001b[1;33m\u001b[0m\u001b[0m\n",
      "\u001b[1;31mAttributeError\u001b[0m: type object 'str' has no attribute 'ascii_uppercase'"
     ]
    }
   ],
   "source": [
    "alfabeto = str.ascii_uppercase\n",
    "clave = 'VCHPRZGJNTLSKFBDQWAXEUYMOI'\n",
    "clave = clave.upper()\n",
    "print (alfabeto)\n",
    "print (clave)"
   ]
  },
  {
   "cell_type": "code",
   "execution_count": null,
   "metadata": {},
   "outputs": [],
   "source": []
  },
  {
   "cell_type": "code",
   "execution_count": null,
   "metadata": {},
   "outputs": [],
   "source": []
  }
 ],
 "metadata": {
  "kernelspec": {
   "display_name": "Python 3",
   "language": "python",
   "name": "python3"
  },
  "language_info": {
   "codemirror_mode": {
    "name": "ipython",
    "version": 3
   },
   "file_extension": ".py",
   "mimetype": "text/x-python",
   "name": "python",
   "nbconvert_exporter": "python",
   "pygments_lexer": "ipython3",
   "version": "3.8.3"
  }
 },
 "nbformat": 4,
 "nbformat_minor": 4
}
